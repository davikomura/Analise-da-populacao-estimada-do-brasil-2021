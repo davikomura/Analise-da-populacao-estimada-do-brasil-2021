{
 "cells": [
  {
   "cell_type": "markdown",
   "id": "71e1fc56",
   "metadata": {},
   "source": [
    "# Análise da população nos municípios brasileiros no ano de 2021"
   ]
  },
  {
   "cell_type": "markdown",
   "id": "b92b4a8e",
   "metadata": {},
   "source": [
    "### Os dados foram retirados do site do IBGE.\n",
    "\n",
    "https://www.ibge.gov.br/estatisticas/sociais/populacao/9103-estimativas-de-populacao.html?=&t=resultados"
   ]
  },
  {
   "cell_type": "code",
   "execution_count": 1,
   "id": "35765f6d",
   "metadata": {},
   "outputs": [],
   "source": [
    "import numpy as np\n",
    "import pandas as pd\n",
    "import matplotlib.pyplot as plt\n",
    "import seaborn as sns"
   ]
  },
  {
   "cell_type": "code",
   "execution_count": 2,
   "id": "e8de7c78",
   "metadata": {
    "scrolled": true
   },
   "outputs": [
    {
     "name": "stderr",
     "output_type": "stream",
     "text": [
      "/tmp/ipykernel_15540/1619121407.py:10: FutureWarning: The default value of regex will change from True to False in a future version. In addition, single character regular expressions will *not* be treated as literal strings when regex=True.\n",
      "  df['População Estimada'] = df['População Estimada'].str.replace('.', '')\n"
     ]
    }
   ],
   "source": [
    "df = pd.read_csv('POP2021_20220711.csv', header=1).rename(columns={'NOME DO MUNICÍPIO':'Nome do Município'})\n",
    "\n",
    "new = df[' POPULAÇÃO ESTIMADA '].str.split(\"(\", n = 1, expand = True)\n",
    "\n",
    "df['População Estimada']= new[0]\n",
    "df['null']= new[1]\n",
    "\n",
    "df.drop(columns =[' POPULAÇÃO ESTIMADA ', 'null', 'COD. UF', 'COD. MUNIC'], inplace = True)\n",
    "\n",
    "df['População Estimada'] = df['População Estimada'].str.replace('.', '') \n",
    "\n",
    "df['População Estimada'] = pd.to_numeric(df['População Estimada'])"
   ]
  },
  {
   "cell_type": "markdown",
   "id": "eaa6ea1f",
   "metadata": {},
   "source": [
    "### Primeiramente vou ver a população estimada total dos 26 estados brasileiros."
   ]
  },
  {
   "cell_type": "code",
   "execution_count": 3,
   "id": "a2fadafa",
   "metadata": {
    "scrolled": false
   },
   "outputs": [
    {
     "data": {
      "text/html": [
       "<div>\n",
       "<style scoped>\n",
       "    .dataframe tbody tr th:only-of-type {\n",
       "        vertical-align: middle;\n",
       "    }\n",
       "\n",
       "    .dataframe tbody tr th {\n",
       "        vertical-align: top;\n",
       "    }\n",
       "\n",
       "    .dataframe thead th {\n",
       "        text-align: right;\n",
       "    }\n",
       "</style>\n",
       "<table border=\"1\" class=\"dataframe\">\n",
       "  <thead>\n",
       "    <tr style=\"text-align: right;\">\n",
       "      <th></th>\n",
       "      <th>População Estimada</th>\n",
       "    </tr>\n",
       "    <tr>\n",
       "      <th>UF</th>\n",
       "      <th></th>\n",
       "    </tr>\n",
       "  </thead>\n",
       "  <tbody>\n",
       "    <tr>\n",
       "      <th>SP</th>\n",
       "      <td>46649132</td>\n",
       "    </tr>\n",
       "    <tr>\n",
       "      <th>MG</th>\n",
       "      <td>21411923</td>\n",
       "    </tr>\n",
       "    <tr>\n",
       "      <th>RJ</th>\n",
       "      <td>17463349</td>\n",
       "    </tr>\n",
       "    <tr>\n",
       "      <th>BA</th>\n",
       "      <td>14985284</td>\n",
       "    </tr>\n",
       "    <tr>\n",
       "      <th>PR</th>\n",
       "      <td>11597484</td>\n",
       "    </tr>\n",
       "    <tr>\n",
       "      <th>RS</th>\n",
       "      <td>11466630</td>\n",
       "    </tr>\n",
       "    <tr>\n",
       "      <th>PE</th>\n",
       "      <td>9674793</td>\n",
       "    </tr>\n",
       "    <tr>\n",
       "      <th>CE</th>\n",
       "      <td>9240580</td>\n",
       "    </tr>\n",
       "    <tr>\n",
       "      <th>PA</th>\n",
       "      <td>8777124</td>\n",
       "    </tr>\n",
       "    <tr>\n",
       "      <th>SC</th>\n",
       "      <td>7338473</td>\n",
       "    </tr>\n",
       "    <tr>\n",
       "      <th>GO</th>\n",
       "      <td>7206589</td>\n",
       "    </tr>\n",
       "    <tr>\n",
       "      <th>MA</th>\n",
       "      <td>7153262</td>\n",
       "    </tr>\n",
       "    <tr>\n",
       "      <th>AM</th>\n",
       "      <td>4269995</td>\n",
       "    </tr>\n",
       "    <tr>\n",
       "      <th>ES</th>\n",
       "      <td>4108508</td>\n",
       "    </tr>\n",
       "    <tr>\n",
       "      <th>PB</th>\n",
       "      <td>4059905</td>\n",
       "    </tr>\n",
       "    <tr>\n",
       "      <th>MT</th>\n",
       "      <td>3567234</td>\n",
       "    </tr>\n",
       "    <tr>\n",
       "      <th>RN</th>\n",
       "      <td>3560903</td>\n",
       "    </tr>\n",
       "    <tr>\n",
       "      <th>AL</th>\n",
       "      <td>3365351</td>\n",
       "    </tr>\n",
       "    <tr>\n",
       "      <th>PI</th>\n",
       "      <td>3289290</td>\n",
       "    </tr>\n",
       "    <tr>\n",
       "      <th>DF</th>\n",
       "      <td>3094325</td>\n",
       "    </tr>\n",
       "    <tr>\n",
       "      <th>MS</th>\n",
       "      <td>2839188</td>\n",
       "    </tr>\n",
       "    <tr>\n",
       "      <th>SE</th>\n",
       "      <td>2338474</td>\n",
       "    </tr>\n",
       "    <tr>\n",
       "      <th>RO</th>\n",
       "      <td>1815278</td>\n",
       "    </tr>\n",
       "    <tr>\n",
       "      <th>TO</th>\n",
       "      <td>1607363</td>\n",
       "    </tr>\n",
       "    <tr>\n",
       "      <th>AC</th>\n",
       "      <td>906876</td>\n",
       "    </tr>\n",
       "    <tr>\n",
       "      <th>AP</th>\n",
       "      <td>877613</td>\n",
       "    </tr>\n",
       "    <tr>\n",
       "      <th>RR</th>\n",
       "      <td>652713</td>\n",
       "    </tr>\n",
       "  </tbody>\n",
       "</table>\n",
       "</div>"
      ],
      "text/plain": [
       "    População Estimada\n",
       "UF                    \n",
       "SP            46649132\n",
       "MG            21411923\n",
       "RJ            17463349\n",
       "BA            14985284\n",
       "PR            11597484\n",
       "RS            11466630\n",
       "PE             9674793\n",
       "CE             9240580\n",
       "PA             8777124\n",
       "SC             7338473\n",
       "GO             7206589\n",
       "MA             7153262\n",
       "AM             4269995\n",
       "ES             4108508\n",
       "PB             4059905\n",
       "MT             3567234\n",
       "RN             3560903\n",
       "AL             3365351\n",
       "PI             3289290\n",
       "DF             3094325\n",
       "MS             2839188\n",
       "SE             2338474\n",
       "RO             1815278\n",
       "TO             1607363\n",
       "AC              906876\n",
       "AP              877613\n",
       "RR              652713"
      ]
     },
     "execution_count": 3,
     "metadata": {},
     "output_type": "execute_result"
    }
   ],
   "source": [
    "pop_estados = df.groupby(['UF']).sum().sort_values(by = 'População Estimada', ascending=False)\n",
    "pop_estados"
   ]
  },
  {
   "cell_type": "markdown",
   "id": "23c59df0",
   "metadata": {},
   "source": [
    "#### Podemos ver que são paulo tem a maior população estimada com aproximadamente 46,7 milhões de habitantes enquanto roraima tem a menor população estimada com aproximadamente 653 mil habitantes."
   ]
  },
  {
   "cell_type": "markdown",
   "id": "5363ecef",
   "metadata": {},
   "source": [
    "### Agora vou separar o município com maior população e o com menor população."
   ]
  },
  {
   "cell_type": "code",
   "execution_count": 4,
   "id": "230629a6",
   "metadata": {},
   "outputs": [
    {
     "data": {
      "text/html": [
       "<div>\n",
       "<style scoped>\n",
       "    .dataframe tbody tr th:only-of-type {\n",
       "        vertical-align: middle;\n",
       "    }\n",
       "\n",
       "    .dataframe tbody tr th {\n",
       "        vertical-align: top;\n",
       "    }\n",
       "\n",
       "    .dataframe thead th {\n",
       "        text-align: right;\n",
       "    }\n",
       "</style>\n",
       "<table border=\"1\" class=\"dataframe\">\n",
       "  <thead>\n",
       "    <tr style=\"text-align: right;\">\n",
       "      <th></th>\n",
       "      <th>UF</th>\n",
       "      <th>Nome do Município</th>\n",
       "      <th>População Estimada</th>\n",
       "    </tr>\n",
       "  </thead>\n",
       "  <tbody>\n",
       "    <tr>\n",
       "      <th>3829</th>\n",
       "      <td>SP</td>\n",
       "      <td>São Paulo</td>\n",
       "      <td>12396372</td>\n",
       "    </tr>\n",
       "  </tbody>\n",
       "</table>\n",
       "</div>"
      ],
      "text/plain": [
       "      UF Nome do Município  População Estimada\n",
       "3829  SP         São Paulo            12396372"
      ]
     },
     "execution_count": 4,
     "metadata": {},
     "output_type": "execute_result"
    }
   ],
   "source": [
    "pop_muni = df.sort_values(by = 'População Estimada', ascending=False)\n",
    "pop_muni.head(1)"
   ]
  },
  {
   "cell_type": "markdown",
   "id": "5538ef18",
   "metadata": {},
   "source": [
    "###### O município São Paulo tem a maior população estimada do brasil com aproximadamente 12,4 milhões de habitantes o município fica localizado no estado de São Paulo."
   ]
  },
  {
   "cell_type": "code",
   "execution_count": 5,
   "id": "2f83651f",
   "metadata": {},
   "outputs": [
    {
     "data": {
      "text/html": [
       "<div>\n",
       "<style scoped>\n",
       "    .dataframe tbody tr th:only-of-type {\n",
       "        vertical-align: middle;\n",
       "    }\n",
       "\n",
       "    .dataframe tbody tr th {\n",
       "        vertical-align: top;\n",
       "    }\n",
       "\n",
       "    .dataframe thead th {\n",
       "        text-align: right;\n",
       "    }\n",
       "</style>\n",
       "<table border=\"1\" class=\"dataframe\">\n",
       "  <thead>\n",
       "    <tr style=\"text-align: right;\">\n",
       "      <th></th>\n",
       "      <th>UF</th>\n",
       "      <th>Nome do Município</th>\n",
       "      <th>População Estimada</th>\n",
       "    </tr>\n",
       "  </thead>\n",
       "  <tbody>\n",
       "    <tr>\n",
       "      <th>3026</th>\n",
       "      <td>MG</td>\n",
       "      <td>Serra da Saudade</td>\n",
       "      <td>771</td>\n",
       "    </tr>\n",
       "  </tbody>\n",
       "</table>\n",
       "</div>"
      ],
      "text/plain": [
       "      UF Nome do Município  População Estimada\n",
       "3026  MG  Serra da Saudade                 771"
      ]
     },
     "execution_count": 5,
     "metadata": {},
     "output_type": "execute_result"
    }
   ],
   "source": [
    "pop_muni_menor = df.sort_values(by = 'População Estimada')\n",
    "pop_muni_menor.head(1)"
   ]
  },
  {
   "cell_type": "markdown",
   "id": "9082fc29",
   "metadata": {},
   "source": [
    "##### O município Serra da Saudade tem a menor população estimada com 771 habitantes o município fica localizado no estado de Minas Gerais."
   ]
  },
  {
   "cell_type": "markdown",
   "id": "9e2214a7",
   "metadata": {},
   "source": [
    "### Agora irei ver a média de população em cada estado brasileiro."
   ]
  },
  {
   "cell_type": "code",
   "execution_count": 6,
   "id": "d79eaa48",
   "metadata": {},
   "outputs": [
    {
     "data": {
      "text/plain": [
       "UF\n",
       "DF    3094325.00\n",
       "RJ     189819.01\n",
       "SP      72324.24\n",
       "AM      68870.89\n",
       "PA      60952.25\n",
       "AP      54850.81\n",
       "ES      52673.18\n",
       "PE      52296.18\n",
       "CE      50220.54\n",
       "RR      43514.20\n",
       "AC      41221.64\n",
       "MS      35939.09\n",
       "BA      35935.93\n",
       "RO      34909.19\n",
       "AL      32993.64\n",
       "MA      32964.34\n",
       "SE      31179.65\n",
       "GO      29295.08\n",
       "PR      29066.38\n",
       "MT      25299.53\n",
       "MG      25101.90\n",
       "SC      24876.18\n",
       "RS      23071.69\n",
       "RN      21322.77\n",
       "PB      18205.85\n",
       "PI      14684.33\n",
       "TO      11563.76\n",
       "Name: População Estimada, dtype: float64"
      ]
     },
     "execution_count": 6,
     "metadata": {},
     "output_type": "execute_result"
    }
   ],
   "source": [
    "pop_media = df.groupby('UF')['População Estimada'].mean().round(decimals = 2).sort_values(ascending=False)\n",
    "pop_media"
   ]
  },
  {
   "cell_type": "markdown",
   "id": "265e8307",
   "metadata": {},
   "source": [
    "##### Podemos ver que a maior média de população e no distrito federal com média de 3,1 milhões habitantes por município e o tocantins tem a menor média de população do Brasil com média de aproximadamente 11,5 mil de habitantes por município."
   ]
  },
  {
   "cell_type": "markdown",
   "id": "27610865",
   "metadata": {},
   "source": [
    "### Vamos ver agora o total de municípios que cada estado tem."
   ]
  },
  {
   "cell_type": "code",
   "execution_count": 7,
   "id": "6f07e16d",
   "metadata": {},
   "outputs": [
    {
     "data": {
      "text/plain": [
       "UF\n",
       "DF      1\n",
       "RR     15\n",
       "AP     16\n",
       "AC     22\n",
       "RO     52\n",
       "AM     62\n",
       "SE     75\n",
       "ES     78\n",
       "MS     79\n",
       "RJ     92\n",
       "AL    102\n",
       "TO    139\n",
       "MT    141\n",
       "PA    144\n",
       "RN    167\n",
       "CE    184\n",
       "PE    185\n",
       "MA    217\n",
       "PB    223\n",
       "PI    224\n",
       "GO    246\n",
       "SC    295\n",
       "PR    399\n",
       "BA    417\n",
       "RS    497\n",
       "SP    645\n",
       "MG    853\n",
       "Name: População Estimada, dtype: int64"
      ]
     },
     "execution_count": 7,
     "metadata": {},
     "output_type": "execute_result"
    }
   ],
   "source": [
    "uf_contagem = df.groupby('UF')['População Estimada'].count().sort_values()\n",
    "uf_contagem"
   ]
  },
  {
   "cell_type": "markdown",
   "id": "1d6c9aef",
   "metadata": {},
   "source": [
    "##### Podemos ver que Minas Gerais e disparado o estado com mais municípios com 853 municípios já o que menos tem e o Distrito Federal com apenas 1 município o que explica de ser a maior média de população. "
   ]
  },
  {
   "cell_type": "code",
   "execution_count": 8,
   "id": "b643c449",
   "metadata": {},
   "outputs": [
    {
     "data": {
      "image/png": "[encoded data removed]",
      "text/plain": [
       "<Figure size 720x576 with 1 Axes>"
      ]
     },
     "metadata": {
      "needs_background": "light"
     },
     "output_type": "display_data"
    }
   ],
   "source": [
    "fig, ax = plt.subplots(figsize=(10, 8))\n",
    "\n",
    "ax.set_title( \"Total de Municípios em cada estado brasileiro\" , size = 15 )\n",
    "\n",
    "plot = sns.lineplot(data = uf_contagem, ax=ax)"
   ]
  },
  {
   "cell_type": "markdown",
   "id": "c8841886",
   "metadata": {},
   "source": [
    "### Agora vamos achar apenas os municípios com pelo menos 1 milhão de habitantes."
   ]
  },
  {
   "cell_type": "code",
   "execution_count": 9,
   "id": "d97c9b29",
   "metadata": {},
   "outputs": [
    {
     "data": {
      "text/html": [
       "<div>\n",
       "<style scoped>\n",
       "    .dataframe tbody tr th:only-of-type {\n",
       "        vertical-align: middle;\n",
       "    }\n",
       "\n",
       "    .dataframe tbody tr th {\n",
       "        vertical-align: top;\n",
       "    }\n",
       "\n",
       "    .dataframe thead th {\n",
       "        text-align: right;\n",
       "    }\n",
       "</style>\n",
       "<table border=\"1\" class=\"dataframe\">\n",
       "  <thead>\n",
       "    <tr style=\"text-align: right;\">\n",
       "      <th></th>\n",
       "      <th>Nome do Município</th>\n",
       "      <th>População Estimada</th>\n",
       "    </tr>\n",
       "    <tr>\n",
       "      <th>UF</th>\n",
       "      <th></th>\n",
       "      <th></th>\n",
       "    </tr>\n",
       "  </thead>\n",
       "  <tbody>\n",
       "    <tr>\n",
       "      <th>SP</th>\n",
       "      <td>São Paulo</td>\n",
       "      <td>12396372</td>\n",
       "    </tr>\n",
       "    <tr>\n",
       "      <th>RJ</th>\n",
       "      <td>Rio de Janeiro</td>\n",
       "      <td>6775561</td>\n",
       "    </tr>\n",
       "    <tr>\n",
       "      <th>DF</th>\n",
       "      <td>Brasília</td>\n",
       "      <td>3094325</td>\n",
       "    </tr>\n",
       "    <tr>\n",
       "      <th>BA</th>\n",
       "      <td>Salvador</td>\n",
       "      <td>2900319</td>\n",
       "    </tr>\n",
       "    <tr>\n",
       "      <th>CE</th>\n",
       "      <td>Fortaleza</td>\n",
       "      <td>2703391</td>\n",
       "    </tr>\n",
       "    <tr>\n",
       "      <th>MG</th>\n",
       "      <td>Belo Horizonte</td>\n",
       "      <td>2530701</td>\n",
       "    </tr>\n",
       "    <tr>\n",
       "      <th>AM</th>\n",
       "      <td>Manaus</td>\n",
       "      <td>2255903</td>\n",
       "    </tr>\n",
       "    <tr>\n",
       "      <th>PR</th>\n",
       "      <td>Curitiba</td>\n",
       "      <td>1963726</td>\n",
       "    </tr>\n",
       "    <tr>\n",
       "      <th>PE</th>\n",
       "      <td>Recife</td>\n",
       "      <td>1661017</td>\n",
       "    </tr>\n",
       "    <tr>\n",
       "      <th>GO</th>\n",
       "      <td>Goiânia</td>\n",
       "      <td>1555626</td>\n",
       "    </tr>\n",
       "    <tr>\n",
       "      <th>PA</th>\n",
       "      <td>Belém</td>\n",
       "      <td>1506420</td>\n",
       "    </tr>\n",
       "    <tr>\n",
       "      <th>RS</th>\n",
       "      <td>Porto Alegre</td>\n",
       "      <td>1492530</td>\n",
       "    </tr>\n",
       "    <tr>\n",
       "      <th>SP</th>\n",
       "      <td>Guarulhos</td>\n",
       "      <td>1404694</td>\n",
       "    </tr>\n",
       "    <tr>\n",
       "      <th>SP</th>\n",
       "      <td>Campinas</td>\n",
       "      <td>1223237</td>\n",
       "    </tr>\n",
       "    <tr>\n",
       "      <th>MA</th>\n",
       "      <td>São Luís</td>\n",
       "      <td>1115932</td>\n",
       "    </tr>\n",
       "    <tr>\n",
       "      <th>RJ</th>\n",
       "      <td>São Gonçalo</td>\n",
       "      <td>1098357</td>\n",
       "    </tr>\n",
       "    <tr>\n",
       "      <th>AL</th>\n",
       "      <td>Maceió</td>\n",
       "      <td>1031597</td>\n",
       "    </tr>\n",
       "  </tbody>\n",
       "</table>\n",
       "</div>"
      ],
      "text/plain": [
       "   Nome do Município  População Estimada\n",
       "UF                                      \n",
       "SP         São Paulo            12396372\n",
       "RJ    Rio de Janeiro             6775561\n",
       "DF          Brasília             3094325\n",
       "BA          Salvador             2900319\n",
       "CE         Fortaleza             2703391\n",
       "MG    Belo Horizonte             2530701\n",
       "AM            Manaus             2255903\n",
       "PR          Curitiba             1963726\n",
       "PE            Recife             1661017\n",
       "GO           Goiânia             1555626\n",
       "PA             Belém             1506420\n",
       "RS      Porto Alegre             1492530\n",
       "SP         Guarulhos             1404694\n",
       "SP          Campinas             1223237\n",
       "MA          São Luís             1115932\n",
       "RJ       São Gonçalo             1098357\n",
       "AL            Maceió             1031597"
      ]
     },
     "execution_count": 9,
     "metadata": {},
     "output_type": "execute_result"
    }
   ],
   "source": [
    "pop_milhao = df[df['População Estimada'] > 1000000].set_index('UF').sort_values(by = 'População Estimada', \n",
    "                                                                                ascending=False)\n",
    "pop_milhao"
   ]
  },
  {
   "cell_type": "markdown",
   "id": "076d606f",
   "metadata": {},
   "source": [
    "##### Apenas 17 municípios brasileiros possuem mais de 1 milhão de habitantes."
   ]
  },
  {
   "cell_type": "code",
   "execution_count": 10,
   "id": "c133e05a",
   "metadata": {},
   "outputs": [
    {
     "data": {
      "text/plain": [
       "UF\n",
       "AL    1\n",
       "AM    1\n",
       "BA    1\n",
       "CE    1\n",
       "DF    1\n",
       "GO    1\n",
       "MA    1\n",
       "MG    1\n",
       "PA    1\n",
       "PE    1\n",
       "PR    1\n",
       "RS    1\n",
       "RJ    2\n",
       "SP    3\n",
       "Name: População Estimada, dtype: int64"
      ]
     },
     "execution_count": 10,
     "metadata": {},
     "output_type": "execute_result"
    }
   ],
   "source": [
    "pop_milhao_contagem = pop_milhao.groupby('UF')['População Estimada'].count().sort_values()\n",
    "pop_milhao_contagem"
   ]
  },
  {
   "cell_type": "markdown",
   "id": "a4e97994",
   "metadata": {},
   "source": [
    "##### Apenas 14 estados brasileiros possuem pelo menos um municípios com mais de 1 milhão de habitantes. Apenas são paulo e rio de janeiro possuem mais de um sendo são paulo com 3 municípios com mais de 1 milhão de habitantes e rio de janeiro com mais de 1 milhão de habitantes."
   ]
  },
  {
   "cell_type": "markdown",
   "id": "ad061115",
   "metadata": {},
   "source": [
    "### Agora vou fazer algumas breves análises da população do estado do maranhão."
   ]
  },
  {
   "cell_type": "code",
   "execution_count": 11,
   "id": "6f74899b",
   "metadata": {},
   "outputs": [],
   "source": [
    "df_MA = df[df['UF'] == 'MA'].set_index('UF')"
   ]
  },
  {
   "cell_type": "code",
   "execution_count": 12,
   "id": "cb7be6ed",
   "metadata": {},
   "outputs": [
    {
     "data": {
      "text/html": [
       "<div>\n",
       "<style scoped>\n",
       "    .dataframe tbody tr th:only-of-type {\n",
       "        vertical-align: middle;\n",
       "    }\n",
       "\n",
       "    .dataframe tbody tr th {\n",
       "        vertical-align: top;\n",
       "    }\n",
       "\n",
       "    .dataframe thead th {\n",
       "        text-align: right;\n",
       "    }\n",
       "</style>\n",
       "<table border=\"1\" class=\"dataframe\">\n",
       "  <thead>\n",
       "    <tr style=\"text-align: right;\">\n",
       "      <th></th>\n",
       "      <th>Nome do Município</th>\n",
       "      <th>População Estimada</th>\n",
       "    </tr>\n",
       "    <tr>\n",
       "      <th>UF</th>\n",
       "      <th></th>\n",
       "      <th></th>\n",
       "    </tr>\n",
       "  </thead>\n",
       "  <tbody>\n",
       "    <tr>\n",
       "      <th>MA</th>\n",
       "      <td>São Luís</td>\n",
       "      <td>1115932</td>\n",
       "    </tr>\n",
       "    <tr>\n",
       "      <th>MA</th>\n",
       "      <td>Imperatriz</td>\n",
       "      <td>259980</td>\n",
       "    </tr>\n",
       "    <tr>\n",
       "      <th>MA</th>\n",
       "      <td>São José de Ribamar</td>\n",
       "      <td>180345</td>\n",
       "    </tr>\n",
       "    <tr>\n",
       "      <th>MA</th>\n",
       "      <td>Timon</td>\n",
       "      <td>171317</td>\n",
       "    </tr>\n",
       "    <tr>\n",
       "      <th>MA</th>\n",
       "      <td>Caxias</td>\n",
       "      <td>166159</td>\n",
       "    </tr>\n",
       "  </tbody>\n",
       "</table>\n",
       "</div>"
      ],
      "text/plain": [
       "      Nome do Município  População Estimada\n",
       "UF                                         \n",
       "MA             São Luís             1115932\n",
       "MA           Imperatriz              259980\n",
       "MA  São José de Ribamar              180345\n",
       "MA                Timon              171317\n",
       "MA               Caxias              166159"
      ]
     },
     "execution_count": 12,
     "metadata": {},
     "output_type": "execute_result"
    }
   ],
   "source": [
    "ma_top5_maior = pd.DataFrame(df_MA).sort_values(by = 'População Estimada', ascending=False).head(5)\n",
    "\n",
    "ma_top5_maior"
   ]
  },
  {
   "cell_type": "markdown",
   "id": "83a82977",
   "metadata": {},
   "source": [
    "##### Podemos ver que no top 5 de maiores populações do maranhão são luís lidera com aproximadamente 1,1 milhões de habitantes sendo o único município do maranhão com mais de 1 milhão de habitantes."
   ]
  },
  {
   "cell_type": "code",
   "execution_count": 13,
   "id": "d08eccc6",
   "metadata": {},
   "outputs": [
    {
     "data": {
      "image/png": "[encoded data removed]",
      "text/plain": [
       "<Figure size 576x432 with 1 Axes>"
      ]
     },
     "metadata": {
      "needs_background": "light"
     },
     "output_type": "display_data"
    }
   ],
   "source": [
    "fig, ax = plt.subplots(figsize=(8, 6))\n",
    "\n",
    "ax.set_title( \"Maiores Populações do Maranhão\" , size = 14 )\n",
    "\n",
    "plot = sns.barplot(x = 'Nome do Município', y = 'População Estimada', data = ma_top5_maior, ax=ax)\n",
    "\n",
    "for i in plot.patches:\n",
    "    plot.annotate(i.get_height(),\n",
    "                 (i.get_x() + i.get_width() / 2, i.get_height()),\n",
    "                 ha='center', va='baseline', fontsize=12,\n",
    "                 color='black', xytext=(0, 1),\n",
    "                 textcoords='offset points')\n",
    "\n",
    "plt.show()"
   ]
  },
  {
   "cell_type": "code",
   "execution_count": 14,
   "id": "32fe90c2",
   "metadata": {},
   "outputs": [
    {
     "data": {
      "text/html": [
       "<div>\n",
       "<style scoped>\n",
       "    .dataframe tbody tr th:only-of-type {\n",
       "        vertical-align: middle;\n",
       "    }\n",
       "\n",
       "    .dataframe tbody tr th {\n",
       "        vertical-align: top;\n",
       "    }\n",
       "\n",
       "    .dataframe thead th {\n",
       "        text-align: right;\n",
       "    }\n",
       "</style>\n",
       "<table border=\"1\" class=\"dataframe\">\n",
       "  <thead>\n",
       "    <tr style=\"text-align: right;\">\n",
       "      <th></th>\n",
       "      <th>Nome do Município</th>\n",
       "      <th>População Estimada</th>\n",
       "    </tr>\n",
       "    <tr>\n",
       "      <th>UF</th>\n",
       "      <th></th>\n",
       "      <th></th>\n",
       "    </tr>\n",
       "  </thead>\n",
       "  <tbody>\n",
       "    <tr>\n",
       "      <th>MA</th>\n",
       "      <td>Junco do Maranhão</td>\n",
       "      <td>4334</td>\n",
       "    </tr>\n",
       "    <tr>\n",
       "      <th>MA</th>\n",
       "      <td>São Félix de Balsas</td>\n",
       "      <td>4540</td>\n",
       "    </tr>\n",
       "    <tr>\n",
       "      <th>MA</th>\n",
       "      <td>Nova Iorque</td>\n",
       "      <td>4682</td>\n",
       "    </tr>\n",
       "    <tr>\n",
       "      <th>MA</th>\n",
       "      <td>São Pedro dos Crentes</td>\n",
       "      <td>4700</td>\n",
       "    </tr>\n",
       "    <tr>\n",
       "      <th>MA</th>\n",
       "      <td>São Raimundo do Doca Bezerra</td>\n",
       "      <td>5028</td>\n",
       "    </tr>\n",
       "  </tbody>\n",
       "</table>\n",
       "</div>"
      ],
      "text/plain": [
       "               Nome do Município  População Estimada\n",
       "UF                                                  \n",
       "MA             Junco do Maranhão                4334\n",
       "MA           São Félix de Balsas                4540\n",
       "MA                   Nova Iorque                4682\n",
       "MA         São Pedro dos Crentes                4700\n",
       "MA  São Raimundo do Doca Bezerra                5028"
      ]
     },
     "execution_count": 14,
     "metadata": {},
     "output_type": "execute_result"
    }
   ],
   "source": [
    "ma_top5_menor = pd.DataFrame(df_MA).sort_values(by = 'População Estimada', ascending=True).head()\n",
    "ma_top5_menor"
   ]
  },
  {
   "cell_type": "markdown",
   "id": "7e205c95",
   "metadata": {},
   "source": [
    "##### Podemos ver que o top 5 de menores populações do maranhão e liderada por junco do maranhão com apenas 4334 habitantes."
   ]
  },
  {
   "cell_type": "code",
   "execution_count": 15,
   "id": "a7dedb2c",
   "metadata": {},
   "outputs": [
    {
     "data": {
      "image/png": "[encoded data removed]",
      "text/plain": [
       "<Figure size 936x720 with 1 Axes>"
      ]
     },
     "metadata": {
      "needs_background": "light"
     },
     "output_type": "display_data"
    }
   ],
   "source": [
    "fig, ax = plt.subplots(figsize=(13, 10))\n",
    "\n",
    "ax.set_title( \"Menores Populações do Maranhão\" , size = 20 )\n",
    "\n",
    "plot = sns.barplot(x = 'Nome do Município', y = 'População Estimada', data = ma_top5_menor, ax=ax)\n",
    "\n",
    "for i in plot.patches:\n",
    "    plot.annotate(i.get_height(),\n",
    "                 (i.get_x() + i.get_width() / 2, i.get_height()),\n",
    "                 ha='center', va='baseline', fontsize=15,\n",
    "                 color='black', xytext=(0, 1),\n",
    "                 textcoords='offset points')\n",
    " \n",
    "plt.show()"
   ]
  }
 ],
 "metadata": {
  "kernelspec": {
   "display_name": "Python 3 (ipykernel)",
   "language": "python",
   "name": "python3"
  },
  "language_info": {
   "codemirror_mode": {
    "name": "ipython",
    "version": 3
   },
   "file_extension": ".py",
   "mimetype": "text/x-python",
   "name": "python",
   "nbconvert_exporter": "python",
   "pygments_lexer": "ipython3",
   "version": "3.10.4"
  }
 },
 "nbformat": 4,
 "nbformat_minor": 5
}
